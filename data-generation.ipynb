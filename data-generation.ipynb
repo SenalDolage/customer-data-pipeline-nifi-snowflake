{
 "cells": [
  {
   "cell_type": "code",
   "execution_count": null,
   "id": "3718b891",
   "metadata": {},
   "outputs": [],
   "source": [
    "from faker import Faker\n",
    "import csv\n",
    "from datetime import datetime"
   ]
  },
  {
   "cell_type": "code",
   "execution_count": 4,
   "id": "4faf2651",
   "metadata": {},
   "outputs": [],
   "source": [
    "RECORD_COUNT = 1000\n",
    "fake = Faker()"
   ]
  },
  {
   "cell_type": "code",
   "execution_count": 26,
   "id": "de524541",
   "metadata": {},
   "outputs": [
    {
     "name": "stdout",
     "output_type": "stream",
     "text": [
      "20250526235724\n"
     ]
    }
   ],
   "source": [
    "current_timestamp = datetime.now().strftime(\"%Y%m%d%H%M%S\")\n",
    "print(current_timestamp)"
   ]
  },
  {
   "cell_type": "code",
   "execution_count": 27,
   "id": "8b916ce7",
   "metadata": {},
   "outputs": [],
   "source": [
    "#create csv file with fake data\n",
    "def create_csv_file():\n",
    "    with open(f'FakeDataset/customer_{current_timestamp}.csv', 'w', newline='') as csvfile:\n",
    "        fieldnames = [\"customer_id\", \"first_name\", \"last_name\", \"email\", \"street\", \"city\", \"state\", \"country\"]\n",
    "        writer = csv.DictWriter(csvfile, fieldnames=fieldnames)\n",
    "        \n",
    "        writer.writeheader()\n",
    "        for i in range(RECORD_COUNT):\n",
    "            writer.writerow(\n",
    "                {\n",
    "                    \"customer_id\": i,\n",
    "                    \"first_name\": fake.first_name(),\n",
    "                    \"last_name\": fake.last_name(),\n",
    "                    \"email\": fake.email(),\n",
    "                    \"street\": fake.street_address(),\n",
    "                    \"city\": fake.city(),\n",
    "                    \"state\": fake.state(),\n",
    "                    \"country\": fake.country(),\n",
    "                }\n",
    "            )"
   ]
  },
  {
   "cell_type": "code",
   "execution_count": 28,
   "id": "b66eb230",
   "metadata": {},
   "outputs": [],
   "source": [
    "if __name__ == '__main__':\n",
    "    create_csv_file()"
   ]
  }
 ],
 "metadata": {
  "kernelspec": {
   "display_name": ".venv (3.13.3)",
   "language": "python",
   "name": "python3"
  },
  "language_info": {
   "codemirror_mode": {
    "name": "ipython",
    "version": 3
   },
   "file_extension": ".py",
   "mimetype": "text/x-python",
   "name": "python",
   "nbconvert_exporter": "python",
   "pygments_lexer": "ipython3",
   "version": "3.13.3"
  }
 },
 "nbformat": 4,
 "nbformat_minor": 5
}
